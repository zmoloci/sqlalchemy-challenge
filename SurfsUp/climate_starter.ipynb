{
 "cells": [
  {
   "cell_type": "code",
   "execution_count": 1,
   "metadata": {},
   "outputs": [],
   "source": [
    "%matplotlib inline\n",
    "from matplotlib import style\n",
    "style.use('fivethirtyeight')\n",
    "import matplotlib.pyplot as plt"
   ]
  },
  {
   "cell_type": "code",
   "execution_count": 42,
   "metadata": {},
   "outputs": [],
   "source": [
    "import numpy as np\n",
    "import pandas as pd\n",
    "from datetime import datetime as dt\n",
    "from dateutil.relativedelta import relativedelta"
   ]
  },
  {
   "cell_type": "markdown",
   "metadata": {},
   "source": [
    "# Reflect Tables into SQLAlchemy ORM"
   ]
  },
  {
   "cell_type": "code",
   "execution_count": 3,
   "metadata": {},
   "outputs": [],
   "source": [
    "# Python SQL toolkit and Object Relational Mapper\n",
    "import sqlalchemy\n",
    "from sqlalchemy.ext.automap import automap_base\n",
    "from sqlalchemy.orm import Session\n",
    "from sqlalchemy import create_engine, inspect, func"
   ]
  },
  {
   "cell_type": "code",
   "execution_count": 11,
   "metadata": {},
   "outputs": [],
   "source": [
    "# create engine to hawaii.sqlite\n",
    "engine = create_engine(\"sqlite:///./Resources/hawaii.sqlite\", echo=False)"
   ]
  },
  {
   "cell_type": "code",
   "execution_count": 5,
   "metadata": {},
   "outputs": [],
   "source": [
    "# reflect an existing database into a new model\n",
    "Base = automap_base()\n",
    "\n",
    "# reflect the tables\n",
    "Base.prepare(autoload_with=engine)"
   ]
  },
  {
   "cell_type": "code",
   "execution_count": 6,
   "metadata": {},
   "outputs": [
    {
     "data": {
      "text/plain": [
       "['measurement', 'station']"
      ]
     },
     "execution_count": 6,
     "metadata": {},
     "output_type": "execute_result"
    }
   ],
   "source": [
    "# View all of the classes that automap found\n",
    "Base.classes.keys()"
   ]
  },
  {
   "cell_type": "code",
   "execution_count": 7,
   "metadata": {},
   "outputs": [],
   "source": [
    "# Save references to each table\n",
    "Measure = Base.classes.measurement\n",
    "Station = Base.classes.station"
   ]
  },
  {
   "cell_type": "code",
   "execution_count": 8,
   "metadata": {},
   "outputs": [],
   "source": [
    "# Create our session (link) from Python to the DB\n",
    "session = Session(engine)"
   ]
  },
  {
   "cell_type": "markdown",
   "metadata": {},
   "source": [
    "# Exploratory Precipitation Analysis"
   ]
  },
  {
   "cell_type": "code",
   "execution_count": 9,
   "metadata": {},
   "outputs": [
    {
     "data": {
      "text/plain": [
       "{'_sa_instance_state': <sqlalchemy.orm.state.InstanceState at 0x7fccbe735dd0>,\n",
       " 'id': 1,\n",
       " 'date': '2010-01-01',\n",
       " 'tobs': 65.0,\n",
       " 'station': 'USC00519397',\n",
       " 'prcp': 0.08}"
      ]
     },
     "execution_count": 9,
     "metadata": {},
     "output_type": "execute_result"
    }
   ],
   "source": [
    "# Find the most recent date in the data set.\n",
    "\n",
    "# First, look for column headers\n",
    "first_row = session.query(Measure).first()\n",
    "first_row.__dict__\n"
   ]
  },
  {
   "cell_type": "code",
   "execution_count": 117,
   "metadata": {},
   "outputs": [
    {
     "name": "stdout",
     "output_type": "stream",
     "text": [
      "'measurement' column headers (TYPE):\n",
      "    \n",
      "id (INTEGER)\n",
      "station (TEXT)\n",
      "date (TEXT)\n",
      "prcp (FLOAT)\n",
      "tobs (FLOAT)\n",
      "----------------\n",
      "   \n",
      "'station' column headers (TYPE):\n",
      "    \n",
      "id (INTEGER)\n",
      "station (TEXT)\n",
      "name (TEXT)\n",
      "latitude (FLOAT)\n",
      "longitude (FLOAT)\n",
      "elevation (FLOAT)\n",
      "----------------\n",
      "   \n"
     ]
    }
   ],
   "source": [
    "# inspector can also be used to examine table names and their respective column names and data types\n",
    "inspector = inspect(engine)\n",
    "\n",
    "for tables in inspector.get_table_names():\n",
    "    print(f\"'{tables}' column headers (TYPE):\")\n",
    "    print(\"    \")\n",
    "    columns = inspector.get_columns(tables)\n",
    "    for c in columns:\n",
    "        print(f'{c[\"name\"]} ({c[\"type\"]})')\n",
    "    print(\"----------------\")\n",
    "    print(\"   \")"
   ]
  },
  {
   "cell_type": "code",
   "execution_count": 118,
   "metadata": {},
   "outputs": [
    {
     "data": {
      "text/plain": [
       "'2017-08-23'"
      ]
     },
     "execution_count": 118,
     "metadata": {},
     "output_type": "execute_result"
    }
   ],
   "source": [
    "# Then, extract most recent date by sorting dates in descending order and returning the first value\n",
    "recent_date = session.query(Measure).order_by((Measure.date).desc()).first()\n",
    "recent_date.date"
   ]
  },
  {
   "cell_type": "code",
   "execution_count": 94,
   "metadata": {},
   "outputs": [
    {
     "name": "stdout",
     "output_type": "stream",
     "text": [
      "            Precipitation\n",
      "Date                     \n",
      "2016-08-24           1.45\n",
      "2016-08-24           0.08\n",
      "2016-08-24           2.15\n",
      "2016-08-24           2.15\n",
      "2016-08-24           2.28\n",
      "...                   ...\n",
      "2017-08-22           0.00\n",
      "2017-08-23           0.45\n",
      "2017-08-23           0.08\n",
      "2017-08-23           0.00\n",
      "2017-08-23           0.00\n",
      "\n",
      "[2015 rows x 1 columns]\n",
      "           Date  Precipitation\n",
      "0    2016-08-24           9.33\n",
      "1    2016-08-25           0.54\n",
      "2    2016-08-26           0.10\n",
      "3    2016-08-27           0.32\n",
      "4    2016-08-28           3.10\n",
      "..          ...            ...\n",
      "360  2017-08-19           0.09\n",
      "361  2017-08-20           0.01\n",
      "362  2017-08-21           0.58\n",
      "363  2017-08-22           0.50\n",
      "364  2017-08-23           0.53\n",
      "\n",
      "[365 rows x 2 columns]\n"
     ]
    },
    {
     "data": {
      "image/png": "[encoded data removed]",
      "text/plain": [
       "<Figure size 432x288 with 1 Axes>"
      ]
     },
     "metadata": {},
     "output_type": "display_data"
    }
   ],
   "source": [
    "# Design a query to retrieve the last 12 months of precipitation data and plot the results. \n",
    "# Starting from the most recent data point in the database. \n",
    "\n",
    "# Calculate the date one year from the last date in data set.\n",
    "yr_ago = (dt.strptime(recent_date.date, '%Y-%m-%d'))+relativedelta(years=-1)\n",
    "\n",
    "\n",
    "# Perform a query to retrieve the data and precipitation scores\n",
    "last_yr_precip = session.query(Measure).filter(Measure.date >= yr_ago).order_by((Measure.date).desc()).all()\n",
    "\n",
    "measuredate=[]\n",
    "precip=[]\n",
    "\n",
    "for row in last_yr_precip:\n",
    "    # print(row.date, row.prcp)\n",
    "    measuredate.append(row.date)\n",
    "    precip.append(row.prcp)\n",
    "\n",
    "# Save the query results as a Pandas DataFrame and set the index to the date column\n",
    "last_yr_precip_df = pd.DataFrame({'Date': measuredate,\n",
    "                                 'Precipitation':precip}).set_index('Date')            \n",
    "\n",
    "# Sort the dataframe by date\n",
    "last_yr_precip_df.sort_index(inplace=True)\n",
    "\n",
    "# Remove rows with NaN prcp values and print df\n",
    "clean_last_year = last_yr_precip_df.dropna()\n",
    "print(clean_last_year)\n",
    "\n",
    "# Groupby 'Date' and print df\n",
    "gb=clean_last_year.groupby('Date')['Precipitation'].sum().reset_index(name='Precipitation')\n",
    "print(gb)\n",
    "\n",
    "\n",
    "# Use Pandas Plotting with Matplotlib to plot the clean data summed by date\n",
    "fig, ax = plt.subplots()\n",
    "ax.bar(gb['Date'],gb['Precipitation'])\n",
    "plt.xlabel(\"Date\")\n",
    "plt.ylabel(\"inches\")\n",
    "plt.xticks(np.arange(0,len(gb['Date']),29.5),rotation=90)\n",
    "plt.legend(['Precipitation'])\n",
    "plt.show()\n",
    "\n",
    "\n",
    "\n",
    "\n"
   ]
  },
  {
   "cell_type": "code",
   "execution_count": 78,
   "metadata": {},
   "outputs": [
    {
     "data": {
      "text/html": [
       "<div>\n",
       "<style scoped>\n",
       "    .dataframe tbody tr th:only-of-type {\n",
       "        vertical-align: middle;\n",
       "    }\n",
       "\n",
       "    .dataframe tbody tr th {\n",
       "        vertical-align: top;\n",
       "    }\n",
       "\n",
       "    .dataframe thead th {\n",
       "        text-align: right;\n",
       "    }\n",
       "</style>\n",
       "<table border=\"1\" class=\"dataframe\">\n",
       "  <thead>\n",
       "    <tr style=\"text-align: right;\">\n",
       "      <th></th>\n",
       "      <th>Precipitation</th>\n",
       "    </tr>\n",
       "  </thead>\n",
       "  <tbody>\n",
       "    <tr>\n",
       "      <th>count</th>\n",
       "      <td>365.000000</td>\n",
       "    </tr>\n",
       "    <tr>\n",
       "      <th>mean</th>\n",
       "      <td>0.974164</td>\n",
       "    </tr>\n",
       "    <tr>\n",
       "      <th>std</th>\n",
       "      <td>1.776466</td>\n",
       "    </tr>\n",
       "    <tr>\n",
       "      <th>min</th>\n",
       "      <td>0.000000</td>\n",
       "    </tr>\n",
       "    <tr>\n",
       "      <th>25%</th>\n",
       "      <td>0.050000</td>\n",
       "    </tr>\n",
       "    <tr>\n",
       "      <th>50%</th>\n",
       "      <td>0.400000</td>\n",
       "    </tr>\n",
       "    <tr>\n",
       "      <th>75%</th>\n",
       "      <td>1.080000</td>\n",
       "    </tr>\n",
       "    <tr>\n",
       "      <th>max</th>\n",
       "      <td>14.280000</td>\n",
       "    </tr>\n",
       "  </tbody>\n",
       "</table>\n",
       "</div>"
      ],
      "text/plain": [
       "       Precipitation\n",
       "count     365.000000\n",
       "mean        0.974164\n",
       "std         1.776466\n",
       "min         0.000000\n",
       "25%         0.050000\n",
       "50%         0.400000\n",
       "75%         1.080000\n",
       "max        14.280000"
      ]
     },
     "execution_count": 78,
     "metadata": {},
     "output_type": "execute_result"
    }
   ],
   "source": [
    "# Use Pandas to calcualte the summary statistics for the precipitation data\n",
    "gb.describe()"
   ]
  },
  {
   "cell_type": "markdown",
   "metadata": {},
   "source": [
    "# Exploratory Station Analysis"
   ]
  },
  {
   "cell_type": "code",
   "execution_count": 111,
   "metadata": {},
   "outputs": [
    {
     "data": {
      "text/plain": [
       "9"
      ]
     },
     "execution_count": 111,
     "metadata": {},
     "output_type": "execute_result"
    }
   ],
   "source": [
    "# Design a query to calculate the total number stations in the dataset\n",
    "\n",
    "len(session.query(Station.station).group_by(Station.station).all())\n"
   ]
  },
  {
   "cell_type": "code",
   "execution_count": 134,
   "metadata": {},
   "outputs": [
    {
     "name": "stdout",
     "output_type": "stream",
     "text": [
      "  station code  entry count\n",
      "0  USC00519281         2772\n",
      "1  USC00519397         2724\n",
      "2  USC00513117         2709\n",
      "3  USC00519523         2669\n",
      "4  USC00516128         2612\n",
      "5  USC00514830         2202\n",
      "6  USC00511918         1979\n",
      "7  USC00517948         1372\n",
      "8  USC00518838          511\n"
     ]
    }
   ],
   "source": [
    "# Design a query to find the most active stations (i.e. what stations have the most rows?)\n",
    "# List the stations and the counts in descending order.\n",
    "\n",
    "\n",
    "station_activity = session.query(Measure).all()\n",
    "# ------------------\n",
    "id=[]\n",
    "station=[]\n",
    "temp=[]\n",
    "\n",
    "for row in station_activity:\n",
    "    # print(row.id, row.station)\n",
    "    id.append(row.id)\n",
    "    station.append(row.station)\n",
    "    temp.append(row.tobs)\n",
    "\n",
    "station_activity_df = pd.DataFrame({'id': id,\n",
    "                                 'station code':station,'temp':temp}).set_index('id')            \n",
    "\n",
    "# Sort the dataframe by date\n",
    "station_activity_df.sort_index(inplace=True)\n",
    "\n",
    "# Remove rows with NaN prcp values and print df\n",
    "clean_station = station_activity_df.dropna()\n",
    "\n",
    "\n",
    "# Groupby 'Date' and print df\n",
    "gbstat=clean_station.groupby('station code')['temp'].count().reset_index(name='entry count').sort_values(by=['entry count'],ascending=False)\n",
    "gbstats=gbstat.reset_index(drop=True)\n",
    "print(gbstats)"
   ]
  },
  {
   "cell_type": "code",
   "execution_count": 136,
   "metadata": {},
   "outputs": [
    {
     "data": {
      "text/plain": [
       "[('USC00519281', 54.0, 85.0, 71.66378066378067)]"
      ]
     },
     "execution_count": 136,
     "metadata": {},
     "output_type": "execute_result"
    }
   ],
   "source": [
    "# Using the most active station id from the previous query, calculate the lowest, highest, and average temperature.\n",
    "sel = [Measure.station,\n",
    "       func.min(Measure.tobs),\n",
    "       func.max(Measure.tobs),\n",
    "       func.avg(Measure.tobs)]\n",
    "USC00519281_temp_stats = session.query(*sel).\\\n",
    "    filter(Measure.station == \"USC00519281\").all()\n",
    "USC00519281_temp_stats"
   ]
  },
  {
   "cell_type": "code",
   "execution_count": 137,
   "metadata": {},
   "outputs": [
    {
     "data": {
      "text/plain": [
       "'2017-08-18'"
      ]
     },
     "execution_count": 137,
     "metadata": {},
     "output_type": "execute_result"
    }
   ],
   "source": [
    "# Using the most active station id\n",
    "# Query the last 12 months of temperature observation data for this station and plot the results as a histogram\n",
    "\n",
    "\n",
    "# extract most recent date by sorting dates in descending order and returning the first value\n",
    "recent_USC00519281_date = session.query(Measure).order_by((Measure.date).desc()).filter(Measure.station == \"USC00519281\").first()\n",
    "recent_USC00519281_date.date"
   ]
  },
  {
   "cell_type": "code",
   "execution_count": 138,
   "metadata": {},
   "outputs": [],
   "source": [
    "# Calculate the date one year from the last date in data set.\n",
    "yr_ago = (dt.strptime(recent_USC00519281_date.date, '%Y-%m-%d'))+relativedelta(years=-1)"
   ]
  },
  {
   "cell_type": "code",
   "execution_count": 139,
   "metadata": {},
   "outputs": [
    {
     "name": "stdout",
     "output_type": "stream",
     "text": [
      "USC00519281 2017-08-18 79.0\n",
      "USC00519281 2017-08-17 76.0\n",
      "USC00519281 2017-08-16 76.0\n",
      "USC00519281 2017-08-15 77.0\n",
      "USC00519281 2017-08-14 77.0\n",
      "USC00519281 2017-08-13 77.0\n",
      "USC00519281 2017-08-06 83.0\n",
      "USC00519281 2017-08-05 82.0\n",
      "USC00519281 2017-08-04 77.0\n",
      "USC00519281 2017-07-31 76.0\n",
      "USC00519281 2017-07-30 81.0\n",
      "USC00519281 2017-07-29 82.0\n",
      "USC00519281 2017-07-28 81.0\n",
      "USC00519281 2017-07-27 76.0\n",
      "USC00519281 2017-07-26 75.0\n",
      "USC00519281 2017-07-25 77.0\n",
      "USC00519281 2017-07-24 75.0\n",
      "USC00519281 2017-07-23 82.0\n",
      "USC00519281 2017-07-22 77.0\n",
      "USC00519281 2017-07-21 77.0\n",
      "USC00519281 2017-07-20 77.0\n",
      "USC00519281 2017-07-19 76.0\n",
      "USC00519281 2017-07-18 76.0\n",
      "USC00519281 2017-07-17 76.0\n",
      "USC00519281 2017-07-16 80.0\n",
      "USC00519281 2017-07-15 80.0\n",
      "USC00519281 2017-07-14 76.0\n",
      "USC00519281 2017-07-13 74.0\n",
      "USC00519281 2017-07-12 74.0\n",
      "USC00519281 2017-07-11 72.0\n",
      "USC00519281 2017-07-10 69.0\n",
      "USC00519281 2017-07-09 78.0\n",
      "USC00519281 2017-07-08 78.0\n",
      "USC00519281 2017-07-07 75.0\n",
      "USC00519281 2017-07-06 74.0\n",
      "USC00519281 2017-07-05 77.0\n",
      "USC00519281 2017-07-04 78.0\n",
      "USC00519281 2017-07-03 76.0\n",
      "USC00519281 2017-07-02 81.0\n",
      "USC00519281 2017-07-01 79.0\n",
      "USC00519281 2017-06-30 76.0\n",
      "USC00519281 2017-06-29 76.0\n",
      "USC00519281 2017-06-28 77.0\n",
      "USC00519281 2017-06-27 76.0\n",
      "USC00519281 2017-06-26 73.0\n",
      "USC00519281 2017-06-25 71.0\n",
      "USC00519281 2017-06-24 77.0\n",
      "USC00519281 2017-06-23 72.0\n",
      "USC00519281 2017-06-22 72.0\n",
      "USC00519281 2017-06-21 74.0\n",
      "USC00519281 2017-06-20 72.0\n",
      "USC00519281 2017-06-19 72.0\n",
      "USC00519281 2017-06-18 75.0\n",
      "USC00519281 2017-06-17 79.0\n",
      "USC00519281 2017-06-16 73.0\n",
      "USC00519281 2017-06-15 75.0\n",
      "USC00519281 2017-06-14 74.0\n",
      "USC00519281 2017-06-13 76.0\n",
      "USC00519281 2017-06-12 74.0\n",
      "USC00519281 2017-06-11 74.0\n",
      "USC00519281 2017-06-10 74.0\n",
      "USC00519281 2017-06-09 72.0\n",
      "USC00519281 2017-06-08 75.0\n",
      "USC00519281 2017-06-07 75.0\n",
      "USC00519281 2017-06-06 75.0\n",
      "USC00519281 2017-06-05 75.0\n",
      "USC00519281 2017-06-04 77.0\n",
      "USC00519281 2017-06-03 76.0\n",
      "USC00519281 2017-06-02 76.0\n",
      "USC00519281 2017-06-01 80.0\n",
      "USC00519281 2017-05-31 75.0\n",
      "USC00519281 2017-05-30 72.0\n",
      "USC00519281 2017-05-29 74.0\n",
      "USC00519281 2017-05-28 80.0\n",
      "USC00519281 2017-05-27 74.0\n",
      "USC00519281 2017-05-26 74.0\n",
      "USC00519281 2017-05-25 74.0\n",
      "USC00519281 2017-05-24 74.0\n",
      "USC00519281 2017-05-23 71.0\n",
      "USC00519281 2017-05-22 71.0\n",
      "USC00519281 2017-05-21 74.0\n",
      "USC00519281 2017-05-20 76.0\n",
      "USC00519281 2017-05-19 68.0\n",
      "USC00519281 2017-05-18 69.0\n",
      "USC00519281 2017-05-17 74.0\n",
      "USC00519281 2017-05-16 74.0\n",
      "USC00519281 2017-05-15 74.0\n",
      "USC00519281 2017-05-14 77.0\n",
      "USC00519281 2017-05-13 76.0\n",
      "USC00519281 2017-05-12 75.0\n",
      "USC00519281 2017-05-11 70.0\n",
      "USC00519281 2017-05-10 74.0\n",
      "USC00519281 2017-05-09 67.0\n",
      "USC00519281 2017-05-08 70.0\n",
      "USC00519281 2017-05-07 75.0\n",
      "USC00519281 2017-05-06 79.0\n",
      "USC00519281 2017-05-05 70.0\n",
      "USC00519281 2017-05-04 75.0\n",
      "USC00519281 2017-05-03 70.0\n",
      "USC00519281 2017-05-02 75.0\n",
      "USC00519281 2017-05-01 65.0\n",
      "USC00519281 2017-04-30 60.0\n",
      "USC00519281 2017-04-29 72.0\n",
      "USC00519281 2017-04-28 67.0\n",
      "USC00519281 2017-04-27 70.0\n",
      "USC00519281 2017-04-26 74.0\n",
      "USC00519281 2017-04-25 72.0\n",
      "USC00519281 2017-04-24 68.0\n",
      "USC00519281 2017-04-23 76.0\n",
      "USC00519281 2017-04-22 72.0\n",
      "USC00519281 2017-04-21 69.0\n",
      "USC00519281 2017-04-20 76.0\n",
      "USC00519281 2017-04-19 67.0\n",
      "USC00519281 2017-04-18 68.0\n",
      "USC00519281 2017-04-17 67.0\n",
      "USC00519281 2017-04-16 71.0\n",
      "USC00519281 2017-04-15 78.0\n",
      "USC00519281 2017-04-14 74.0\n",
      "USC00519281 2017-04-13 69.0\n",
      "USC00519281 2017-04-12 69.0\n",
      "USC00519281 2017-04-11 70.0\n",
      "USC00519281 2017-04-10 67.0\n",
      "USC00519281 2017-04-09 78.0\n",
      "USC00519281 2017-04-08 77.0\n",
      "USC00519281 2017-04-07 74.0\n",
      "USC00519281 2017-04-06 67.0\n",
      "USC00519281 2017-04-05 71.0\n",
      "USC00519281 2017-04-04 67.0\n",
      "USC00519281 2017-04-03 70.0\n",
      "USC00519281 2017-04-02 75.0\n",
      "USC00519281 2017-04-01 74.0\n",
      "USC00519281 2017-03-31 71.0\n",
      "USC00519281 2017-03-30 73.0\n",
      "USC00519281 2017-03-29 68.0\n",
      "USC00519281 2017-03-28 74.0\n",
      "USC00519281 2017-03-27 76.0\n",
      "USC00519281 2017-03-26 77.0\n",
      "USC00519281 2017-03-25 76.0\n",
      "USC00519281 2017-03-24 71.0\n",
      "USC00519281 2017-03-23 72.0\n",
      "USC00519281 2017-03-22 73.0\n",
      "USC00519281 2017-03-21 72.0\n",
      "USC00519281 2017-03-20 69.0\n",
      "USC00519281 2017-03-19 74.0\n",
      "USC00519281 2017-03-18 65.0\n",
      "USC00519281 2017-03-17 68.0\n",
      "USC00519281 2017-03-16 66.0\n",
      "USC00519281 2017-03-15 69.0\n",
      "USC00519281 2017-03-14 67.0\n",
      "USC00519281 2017-03-13 66.0\n",
      "USC00519281 2017-03-12 69.0\n",
      "USC00519281 2017-03-11 81.0\n",
      "USC00519281 2017-03-10 66.0\n",
      "USC00519281 2017-03-09 67.0\n",
      "USC00519281 2017-03-08 64.0\n",
      "USC00519281 2017-03-07 62.0\n",
      "USC00519281 2017-03-06 67.0\n",
      "USC00519281 2017-03-05 73.0\n",
      "USC00519281 2017-03-04 77.0\n",
      "USC00519281 2017-03-03 72.0\n",
      "USC00519281 2017-03-02 73.0\n",
      "USC00519281 2017-03-01 71.0\n",
      "USC00519281 2017-02-28 72.0\n",
      "USC00519281 2017-02-27 65.0\n",
      "USC00519281 2017-02-26 67.0\n",
      "USC00519281 2017-02-25 61.0\n",
      "USC00519281 2017-02-24 69.0\n",
      "USC00519281 2017-02-23 71.0\n",
      "USC00519281 2017-02-22 71.0\n",
      "USC00519281 2017-02-21 71.0\n",
      "USC00519281 2017-02-20 70.0\n",
      "USC00519281 2017-02-19 70.0\n",
      "USC00519281 2017-02-18 74.0\n",
      "USC00519281 2017-02-17 70.0\n",
      "USC00519281 2017-02-16 65.0\n",
      "USC00519281 2017-02-15 75.0\n",
      "USC00519281 2017-02-14 79.0\n",
      "USC00519281 2017-02-13 73.0\n",
      "USC00519281 2017-02-12 70.0\n",
      "USC00519281 2017-02-11 68.0\n",
      "USC00519281 2017-02-10 62.0\n",
      "USC00519281 2017-02-09 59.0\n",
      "USC00519281 2017-02-08 59.0\n",
      "USC00519281 2017-02-07 64.0\n",
      "USC00519281 2017-02-06 75.0\n",
      "USC00519281 2017-02-05 73.0\n",
      "USC00519281 2017-02-04 70.0\n",
      "USC00519281 2017-02-03 60.0\n",
      "USC00519281 2017-02-02 59.0\n",
      "USC00519281 2017-02-01 68.0\n",
      "USC00519281 2017-01-31 68.0\n",
      "USC00519281 2017-01-30 68.0\n",
      "USC00519281 2017-01-29 69.0\n",
      "USC00519281 2017-01-28 65.0\n",
      "USC00519281 2017-01-27 66.0\n",
      "USC00519281 2017-01-26 70.0\n",
      "USC00519281 2017-01-25 69.0\n",
      "USC00519281 2017-01-24 72.0\n",
      "USC00519281 2017-01-23 72.0\n",
      "USC00519281 2017-01-22 71.0\n",
      "USC00519281 2017-01-21 71.0\n",
      "USC00519281 2017-01-20 69.0\n",
      "USC00519281 2017-01-19 71.0\n",
      "USC00519281 2017-01-18 72.0\n",
      "USC00519281 2017-01-17 69.0\n",
      "USC00519281 2017-01-16 74.0\n",
      "USC00519281 2017-01-15 70.0\n",
      "USC00519281 2017-01-14 77.0\n",
      "USC00519281 2017-01-13 69.0\n",
      "USC00519281 2017-01-12 65.0\n",
      "USC00519281 2017-01-11 63.0\n",
      "USC00519281 2017-01-10 62.0\n",
      "USC00519281 2017-01-09 62.0\n",
      "USC00519281 2017-01-08 70.0\n",
      "USC00519281 2017-01-07 70.0\n",
      "USC00519281 2017-01-06 62.0\n",
      "USC00519281 2017-01-05 63.0\n",
      "USC00519281 2017-01-04 63.0\n",
      "USC00519281 2017-01-03 64.0\n",
      "USC00519281 2017-01-02 70.0\n",
      "USC00519281 2017-01-01 72.0\n",
      "USC00519281 2016-12-31 67.0\n",
      "USC00519281 2016-12-30 69.0\n",
      "USC00519281 2016-12-29 74.0\n",
      "USC00519281 2016-12-28 72.0\n",
      "USC00519281 2016-12-27 71.0\n",
      "USC00519281 2016-12-26 72.0\n",
      "USC00519281 2016-12-25 74.0\n",
      "USC00519281 2016-12-24 74.0\n",
      "USC00519281 2016-12-23 71.0\n",
      "USC00519281 2016-12-22 73.0\n",
      "USC00519281 2016-12-21 74.0\n",
      "USC00519281 2016-12-20 76.0\n",
      "USC00519281 2016-12-19 76.0\n",
      "USC00519281 2016-12-18 69.0\n",
      "USC00519281 2016-12-17 70.0\n",
      "USC00519281 2016-12-16 75.0\n",
      "USC00519281 2016-12-15 62.0\n",
      "USC00519281 2016-12-14 68.0\n",
      "USC00519281 2016-12-13 65.0\n",
      "USC00519281 2016-12-12 66.0\n",
      "USC00519281 2016-12-11 69.0\n",
      "USC00519281 2016-12-10 69.0\n",
      "USC00519281 2016-12-09 68.0\n",
      "USC00519281 2016-12-08 70.0\n",
      "USC00519281 2016-12-07 69.0\n",
      "USC00519281 2016-12-06 67.0\n",
      "USC00519281 2016-12-05 67.0\n",
      "USC00519281 2016-12-04 70.0\n",
      "USC00519281 2016-12-03 72.0\n",
      "USC00519281 2016-12-02 70.0\n",
      "USC00519281 2016-12-01 74.0\n",
      "USC00519281 2016-11-30 73.0\n",
      "USC00519281 2016-11-29 73.0\n",
      "USC00519281 2016-11-28 75.0\n",
      "USC00519281 2016-11-27 73.0\n",
      "USC00519281 2016-11-26 75.0\n",
      "USC00519281 2016-11-25 74.0\n",
      "USC00519281 2016-11-24 75.0\n",
      "USC00519281 2016-11-23 74.0\n",
      "USC00519281 2016-11-22 75.0\n",
      "USC00519281 2016-11-21 73.0\n",
      "USC00519281 2016-11-20 75.0\n",
      "USC00519281 2016-11-19 73.0\n",
      "USC00519281 2016-11-18 75.0\n",
      "USC00519281 2016-11-17 76.0\n",
      "USC00519281 2016-11-16 75.0\n",
      "USC00519281 2016-11-15 76.0\n",
      "USC00519281 2016-11-14 76.0\n",
      "USC00519281 2016-11-13 77.0\n",
      "USC00519281 2016-11-12 74.0\n",
      "USC00519281 2016-11-11 77.0\n",
      "USC00519281 2016-11-10 67.0\n",
      "USC00519281 2016-11-09 68.0\n",
      "USC00519281 2016-11-08 70.0\n",
      "USC00519281 2016-11-07 63.0\n",
      "USC00519281 2016-11-06 71.0\n",
      "USC00519281 2016-11-05 75.0\n",
      "USC00519281 2016-11-04 75.0\n",
      "USC00519281 2016-11-03 75.0\n",
      "USC00519281 2016-11-02 75.0\n",
      "USC00519281 2016-11-01 74.0\n",
      "USC00519281 2016-10-31 76.0\n",
      "USC00519281 2016-10-30 76.0\n",
      "USC00519281 2016-10-29 77.0\n",
      "USC00519281 2016-10-28 74.0\n",
      "USC00519281 2016-10-27 76.0\n",
      "USC00519281 2016-10-26 73.0\n",
      "USC00519281 2016-10-25 76.0\n",
      "USC00519281 2016-10-24 75.0\n",
      "USC00519281 2016-10-23 74.0\n",
      "USC00519281 2016-10-22 77.0\n",
      "USC00519281 2016-10-21 78.0\n",
      "USC00519281 2016-10-20 78.0\n",
      "USC00519281 2016-10-19 78.0\n",
      "USC00519281 2016-10-18 78.0\n",
      "USC00519281 2016-10-17 77.0\n",
      "USC00519281 2016-10-16 79.0\n",
      "USC00519281 2016-10-15 77.0\n",
      "USC00519281 2016-10-14 79.0\n",
      "USC00519281 2016-10-13 78.0\n",
      "USC00519281 2016-10-12 79.0\n",
      "USC00519281 2016-10-11 77.0\n",
      "USC00519281 2016-10-10 71.0\n",
      "USC00519281 2016-10-09 72.0\n",
      "USC00519281 2016-10-08 73.0\n",
      "USC00519281 2016-10-07 76.0\n",
      "USC00519281 2016-10-06 75.0\n",
      "USC00519281 2016-10-05 79.0\n",
      "USC00519281 2016-10-04 79.0\n",
      "USC00519281 2016-10-03 79.0\n",
      "USC00519281 2016-10-02 79.0\n",
      "USC00519281 2016-10-01 77.0\n",
      "USC00519281 2016-09-30 78.0\n",
      "USC00519281 2016-09-29 78.0\n",
      "USC00519281 2016-09-28 78.0\n",
      "USC00519281 2016-09-27 80.0\n",
      "USC00519281 2016-09-26 77.0\n",
      "USC00519281 2016-09-25 79.0\n",
      "USC00519281 2016-09-24 79.0\n",
      "USC00519281 2016-09-23 78.0\n",
      "USC00519281 2016-09-22 77.0\n",
      "USC00519281 2016-09-21 74.0\n",
      "USC00519281 2016-09-20 76.0\n",
      "USC00519281 2016-09-19 78.0\n",
      "USC00519281 2016-09-18 78.0\n",
      "USC00519281 2016-09-17 79.0\n",
      "USC00519281 2016-09-16 78.0\n",
      "USC00519281 2016-09-15 79.0\n",
      "USC00519281 2016-09-14 75.0\n",
      "USC00519281 2016-09-13 79.0\n",
      "USC00519281 2016-09-12 76.0\n",
      "USC00519281 2016-09-11 80.0\n",
      "USC00519281 2016-09-10 77.0\n",
      "USC00519281 2016-09-09 79.0\n",
      "USC00519281 2016-09-08 80.0\n",
      "USC00519281 2016-09-07 74.0\n",
      "USC00519281 2016-09-06 73.0\n",
      "USC00519281 2016-09-05 78.0\n",
      "USC00519281 2016-09-04 78.0\n",
      "USC00519281 2016-09-03 78.0\n",
      "USC00519281 2016-09-02 80.0\n",
      "USC00519281 2016-09-01 80.0\n",
      "USC00519281 2016-08-31 78.0\n",
      "USC00519281 2016-08-30 77.0\n",
      "USC00519281 2016-08-29 78.0\n",
      "USC00519281 2016-08-28 73.0\n",
      "USC00519281 2016-08-27 75.0\n",
      "USC00519281 2016-08-26 80.0\n",
      "USC00519281 2016-08-25 80.0\n",
      "USC00519281 2016-08-24 77.0\n",
      "USC00519281 2016-08-23 77.0\n",
      "USC00519281 2016-08-22 78.0\n",
      "USC00519281 2016-08-21 79.0\n",
      "USC00519281 2016-08-20 81.0\n",
      "USC00519281 2016-08-19 79.0\n"
     ]
    }
   ],
   "source": [
    "# Perform a query to retrieve the data and temperature values\n",
    "last_yr_temp = session.query(Measure).filter(Measure.date >= yr_ago).filter(Measure.station == \"USC00519281\").order_by((Measure.date).desc()).all()\n",
    "\n",
    "stationname = []\n",
    "tempmeasuredate=[]\n",
    "temp=[]\n",
    "\n",
    "for row in last_yr_temp:\n",
    "    # print(row.station,row.date, row.tobs)\n",
    "    stationname.append(row.station)\n",
    "    tempmeasuredate.append(row.date)\n",
    "    temp.append(row.tobs)"
   ]
  },
  {
   "cell_type": "code",
   "execution_count": 169,
   "metadata": {},
   "outputs": [
    {
     "name": "stdout",
     "output_type": "stream",
     "text": [
      "    Temperature  Days\n",
      "0          59.0     3\n",
      "1          60.0     2\n",
      "2          61.0     1\n",
      "3          62.0     6\n",
      "4          63.0     4\n",
      "5          64.0     3\n",
      "6          65.0     7\n",
      "7          66.0     5\n",
      "8          67.0    15\n",
      "9          68.0    12\n",
      "10         69.0    19\n",
      "11         70.0    22\n",
      "12         71.0    18\n",
      "13         72.0    22\n",
      "14         73.0    18\n",
      "15         74.0    39\n",
      "16         75.0    33\n",
      "17         76.0    33\n",
      "18         77.0    31\n",
      "19         78.0    23\n",
      "20         79.0    20\n",
      "21         80.0    11\n",
      "22         81.0     5\n",
      "23         82.0     3\n",
      "24         83.0     1\n"
     ]
    }
   ],
   "source": [
    "# Save the query results as a Pandas DataFrame and set the index to the date column\n",
    "# Sort the dataframe by date\n",
    "last_yr_USC00519281_temp_df = pd.DataFrame({'Date': tempmeasuredate,\n",
    "                                 'Temperature':temp})\n",
    "last_yr_USC00519281_temp_df.sort_index(inplace=True)\n",
    "\n",
    "# Drop NaN temp measurements\n",
    "clean_last_year_temp = last_yr_USC00519281_temp_df.dropna()\n",
    "\n",
    "# Groupby on Temperature values to give number of days at each temperature over 12 month period\n",
    "gbt=clean_last_year_temp.groupby('Temperature')['Date'].count().reset_index(name='Days')\n",
    "print(gbt)\n",
    "\n",
    "\n"
   ]
  },
  {
   "cell_type": "code",
   "execution_count": 170,
   "metadata": {},
   "outputs": [
    {
     "name": "stdout",
     "output_type": "stream",
     "text": [
      "   Temperature  Days\n",
      "0    59.0-61.0     5\n",
      "1    61.0-63.0     7\n",
      "2    63.0-65.0     7\n",
      "3    65.0-67.0    12\n",
      "4    67.0-69.0    27\n",
      "5    69.0-71.0    41\n",
      "6    71.0-73.0    40\n",
      "7    73.0-75.0    57\n",
      "8    75.0-77.0    66\n",
      "9    77.0-79.0    54\n",
      "10   79.0-81.0    31\n",
      "11   81.0-83.0     9\n"
     ]
    },
    {
     "data": {
      "image/png": "[encoded data removed]",
      "text/plain": [
       "<Figure size 432x288 with 1 Axes>"
      ]
     },
     "metadata": {},
     "output_type": "display_data"
    }
   ],
   "source": [
    "# Use Pandas Plotting with Matplotlib to plot the data with bins = 12\n",
    "\n",
    "# Create 12 equal width bins on Temperature using min, max values\n",
    "bins = []\n",
    "labels = []\n",
    "for i in range(0,13):\n",
    "    bins.append((min(gbt['Temperature'])-.01) + (i*(((max(gbt['Temperature'])+.01)-min(gbt['Temperature']))/12)))\n",
    "    if i != 0:\n",
    "        labels.append(f'{bins[i-1]:.1f}-{bins[i]:.1f}')\n",
    "gbt['bin'] = pd.cut(gbt['Temperature'], bins=bins, labels=labels)\n",
    "\n",
    "# Groupby on bins\n",
    "gbt_binned = gbt.groupby('bin')['Days'].sum().reset_index(name='Days')\n",
    "gbt_binned.columns = ['Temperature','Days']\n",
    "print(gbt_binned)\n",
    "\n",
    "# Plot frequency of temperature readings as histogram including xlabel, ylabel and legend\n",
    "fig, ax = plt.subplots()\n",
    "ax.bar(gbt_binned['Temperature'],gbt_binned['Days'])\n",
    "plt.xlabel(\"Temperature (Degrees Farenheit)\")\n",
    "plt.ylabel(\"Number of Days\")\n",
    "plt.xticks(np.arange(0,13,1),rotation=90)\n",
    "plt.legend(['tobs'])\n",
    "plt.show()"
   ]
  },
  {
   "cell_type": "code",
   "execution_count": null,
   "metadata": {},
   "outputs": [],
   "source": []
  },
  {
   "cell_type": "markdown",
   "metadata": {},
   "source": [
    "# Close session"
   ]
  },
  {
   "cell_type": "code",
   "execution_count": null,
   "metadata": {},
   "outputs": [],
   "source": [
    "# Close Session\n",
    "session.close()"
   ]
  }
 ],
 "metadata": {
  "anaconda-cloud": {},
  "kernel_info": {
   "name": "python3"
  },
  "kernelspec": {
   "display_name": "Python 3",
   "language": "python",
   "name": "python3"
  },
  "language_info": {
   "codemirror_mode": {
    "name": "ipython",
    "version": 3
   },
   "file_extension": ".py",
   "mimetype": "text/x-python",
   "name": "python",
   "nbconvert_exporter": "python",
   "pygments_lexer": "ipython3",
   "version": "3.8.8"
  },
  "nteract": {
   "version": "0.12.3"
  },
  "varInspector": {
   "cols": {
    "lenName": 16,
    "lenType": 16,
    "lenVar": 40
   },
   "kernels_config": {
    "python": {
     "delete_cmd_postfix": "",
     "delete_cmd_prefix": "del ",
     "library": "var_list.py",
     "varRefreshCmd": "print(var_dic_list())"
    },
    "r": {
     "delete_cmd_postfix": ") ",
     "delete_cmd_prefix": "rm(",
     "library": "var_list.r",
     "varRefreshCmd": "cat(var_dic_list()) "
    }
   },
   "types_to_exclude": [
    "module",
    "function",
    "builtin_function_or_method",
    "instance",
    "_Feature"
   ],
   "window_display": false
  }
 },
 "nbformat": 4,
 "nbformat_minor": 2
}
